{
 "cells": [
  {
   "cell_type": "code",
   "execution_count": 1,
   "metadata": {},
   "outputs": [],
   "source": [
    "import numpy as np\n",
    "import sys\n",
    "from Bio.Align import substitution_matrices\n",
    "import AntibioticResistance as AR\n"
   ]
  },
  {
   "cell_type": "code",
   "execution_count": 2,
   "metadata": {},
   "outputs": [],
   "source": [
    "def create_profile(strings, symbols):\n",
    "    prof = np.zeros((len(symbols), len(strings[0])))\n",
    "    for string in strings:\n",
    "        for i in range(len(string)):\n",
    "            prof[symbols.index(string[i])][i] += 1\n",
    "    norm = np.sum(prof, axis = 0)[0]\n",
    "    return prof/norm \n",
    "    "
   ]
  },
  {
   "cell_type": "code",
   "execution_count": null,
   "metadata": {},
   "outputs": [],
   "source": []
  },
  {
   "cell_type": "code",
   "execution_count": 3,
   "metadata": {},
   "outputs": [
    {
     "ename": "IndexError",
     "evalue": "index 8 is out of bounds for axis 1 with size 8",
     "output_type": "error",
     "traceback": [
      "\u001b[1;31m---------------------------------------------------------------------------\u001b[0m",
      "\u001b[1;31mIndexError\u001b[0m                                Traceback (most recent call last)",
      "Cell \u001b[1;32mIn[3], line 8\u001b[0m\n\u001b[0;32m      5\u001b[0m prof2 \u001b[38;5;241m=\u001b[39m create_profile(strings2, \u001b[38;5;124m\"\u001b[39m\u001b[38;5;124mACDEFGHIKLMNPQRSTVWY\u001b[39m\u001b[38;5;124m\"\u001b[39m)\n\u001b[0;32m      7\u001b[0m m \u001b[38;5;241m=\u001b[39m AR\u001b[38;5;241m.\u001b[39mcalculate_match(prof1, prof2, scoring_matrix, \u001b[38;5;241m0\u001b[39m, \u001b[38;5;241m0\u001b[39m, \u001b[38;5;241m5\u001b[39m)\n\u001b[1;32m----> 8\u001b[0m test \u001b[38;5;241m=\u001b[39m AR\u001b[38;5;241m.\u001b[39mlocal_alignment(prof1, prof2, \u001b[38;5;241m5\u001b[39m)\n\u001b[0;32m      9\u001b[0m \u001b[38;5;66;03m#print(prof1)\u001b[39;00m\n\u001b[0;32m     10\u001b[0m \u001b[38;5;66;03m#print(prof2)\u001b[39;00m\n\u001b[0;32m     11\u001b[0m \u001b[38;5;28mprint\u001b[39m(test)\n",
      "File \u001b[1;32mc:\\Users\\omara\\OneDrive - Middlebury College\\Documents\\GitHub\\resistancesequence\\AntibioticResistance.py:101\u001b[0m, in \u001b[0;36mlocal_alignment\u001b[1;34m(x, y, sigma)\u001b[0m\n\u001b[0;32m     98\u001b[0m m, n \u001b[38;5;241m=\u001b[39m \u001b[38;5;28mlen\u001b[39m(x[\u001b[38;5;241m0\u001b[39m]), \u001b[38;5;28mlen\u001b[39m(y[\u001b[38;5;241m0\u001b[39m])\n\u001b[0;32m    100\u001b[0m S \u001b[38;5;241m=\u001b[39m create_scoring_matrix(m, n, sigma)\n\u001b[1;32m--> 101\u001b[0m S, max_score, max_pos \u001b[38;5;241m=\u001b[39m fill_scoring_matrix(x, y, S, sigma, scoring_matrix)\n\u001b[0;32m    103\u001b[0m X_align, Y_align \u001b[38;5;241m=\u001b[39m backtrack(S, x, y, max_pos, sigma, scoring_matrix)\n\u001b[0;32m    106\u001b[0m \u001b[38;5;28;01mreturn\u001b[39;00m max_score, X_align, Y_align\n",
      "File \u001b[1;32mc:\\Users\\omara\\OneDrive - Middlebury College\\Documents\\GitHub\\resistancesequence\\AntibioticResistance.py:43\u001b[0m, in \u001b[0;36mfill_scoring_matrix\u001b[1;34m(x, y, S, sigma, scoring_matrix)\u001b[0m\n\u001b[0;32m     40\u001b[0m \u001b[38;5;28;01mfor\u001b[39;00m j \u001b[38;5;129;01min\u001b[39;00m \u001b[38;5;28mrange\u001b[39m(\u001b[38;5;241m1\u001b[39m, n\u001b[38;5;241m+\u001b[39m\u001b[38;5;241m1\u001b[39m):\n\u001b[0;32m     41\u001b[0m     \u001b[38;5;66;03m#scores for possible alignments\u001b[39;00m\n\u001b[0;32m     42\u001b[0m     insert \u001b[38;5;241m=\u001b[39m S[i, j\u001b[38;5;241m-\u001b[39m\u001b[38;5;241m1\u001b[39m] \u001b[38;5;241m-\u001b[39m sigma\n\u001b[1;32m---> 43\u001b[0m     delete \u001b[38;5;241m=\u001b[39m S[i\u001b[38;5;241m-\u001b[39m\u001b[38;5;241m1\u001b[39m, j] \u001b[38;5;241m-\u001b[39m sigma\n\u001b[0;32m     44\u001b[0m     match \u001b[38;5;241m=\u001b[39m S[i\u001b[38;5;241m-\u001b[39m\u001b[38;5;241m1\u001b[39m, j\u001b[38;5;241m-\u001b[39m\u001b[38;5;241m1\u001b[39m] \u001b[38;5;241m+\u001b[39m calculate_match(x, y, scoring_matrix, i\u001b[38;5;241m-\u001b[39m\u001b[38;5;241m1\u001b[39m, j\u001b[38;5;241m-\u001b[39m\u001b[38;5;241m1\u001b[39m, sigma)\n\u001b[0;32m     46\u001b[0m     S[i, j] \u001b[38;5;241m=\u001b[39m \u001b[38;5;28mmax\u001b[39m(match, delete, insert, \u001b[38;5;241m0\u001b[39m) \u001b[38;5;66;03m#recurrence relation\u001b[39;00m\n",
      "\u001b[1;31mIndexError\u001b[0m: index 8 is out of bounds for axis 1 with size 8"
     ]
    }
   ],
   "source": [
    "scoring_matrix = substitution_matrices.load(\"PAM250\")\n",
    "strings1 = [\"ACGTCAG\", \"TCAGTCG\"]\n",
    "strings2 = [\"ATGCGCT\", \"CTGCGCT\"]\n",
    "prof1 = create_profile(strings1, \"ACDEFGHIKLMNPQRSTVWY\")\n",
    "prof2 = create_profile(strings2, \"ACDEFGHIKLMNPQRSTVWY\")\n",
    "\n",
    "m = AR.calculate_match(prof1, prof2, scoring_matrix, 0, 0, 5)\n",
    "test = AR.local_alignment(prof1, prof2, 5)\n",
    "#print(prof1)\n",
    "#print(prof2)\n",
    "print(test)\n",
    "#print(scoring_matrix)\n"
   ]
  },
  {
   "cell_type": "code",
   "execution_count": null,
   "metadata": {},
   "outputs": [],
   "source": [
    "amino_acids = \"ACDEFGHIKLMNPQRSTVWY-\"\n",
    "def calculate_match(x, y, scoring_matrix, i, j, sigma):\n",
    "    total = 0\n",
    "    x = x/np.sum(x, axis = 0)[0]\n",
    "    y = y/np.sum(y, axis = 0)[0]\n",
    "    for k in range(len(x)):\n",
    "        for l in range(len(x)):\n",
    "            if amino_acids[k] == \"-\" or amino_acids[j] == \"-\":\n",
    "                score = sigma\n",
    "            else:\n",
    "                score = scoring_matrix[(amino_acids[k], amino_acids[l])] \n",
    "            #Probably add 1 back to i and j. Quick fix for index error but we don't know why.\n",
    "            total += score * x[k][i-1] * y[l][j-1]\n",
    "    return total"
   ]
  },
  {
   "cell_type": "code",
   "execution_count": null,
   "metadata": {},
   "outputs": [
    {
     "name": "stdout",
     "output_type": "stream",
     "text": [
      "-0.25\n"
     ]
    }
   ],
   "source": [
    "scoring_matrix = substitution_matrices.load(\"PAM250\")\n",
    "strings1 = [\"ACGTCAG\", \"TCAGTCG\"]\n",
    "strings2 = [\"ATGCGCT\", \"CTGCGCT\"]\n",
    "prof1 = create_profile(strings1, \"ACDEFGHIKLMNPQRSTVWY\")\n",
    "prof2 = create_profile(strings2, \"ACDEFGHIKLMNPQRSTVWY\")\n",
    "m = AR.calculate_match(prof1, prof2, scoring_matrix, 1, 1, 5)\n",
    "print(m)"
   ]
  }
 ],
 "metadata": {
  "kernelspec": {
   "display_name": "cs321",
   "language": "python",
   "name": "python3"
  },
  "language_info": {
   "codemirror_mode": {
    "name": "ipython",
    "version": 3
   },
   "file_extension": ".py",
   "mimetype": "text/x-python",
   "name": "python",
   "nbconvert_exporter": "python",
   "pygments_lexer": "ipython3",
   "version": "3.12.1"
  }
 },
 "nbformat": 4,
 "nbformat_minor": 2
}
