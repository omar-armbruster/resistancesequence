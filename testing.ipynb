{
 "cells": [
  {
   "cell_type": "code",
   "execution_count": 1,
   "metadata": {},
   "outputs": [],
   "source": [
    "import numpy as np\n",
    "import sys\n",
    "from Bio.Align import substitution_matrices\n",
    "import AntibioticResistance as AR\n"
   ]
  },
  {
   "cell_type": "code",
   "execution_count": 2,
   "metadata": {},
   "outputs": [],
   "source": [
    "def create_profile(strings, symbols):\n",
    "    prof = np.zeros((len(symbols), len(strings[0])))\n",
    "    for string in strings:\n",
    "        for i in range(len(string)):\n",
    "            prof[symbols.index(string[i])][i] += 1\n",
    "    norm = np.sum(prof, axis = 0)[0]\n",
    "    return prof/norm \n",
    "    "
   ]
  },
  {
   "cell_type": "code",
   "execution_count": null,
   "metadata": {},
   "outputs": [],
   "source": []
  },
  {
   "cell_type": "code",
   "execution_count": 3,
   "metadata": {},
   "outputs": [
    {
     "name": "stdout",
     "output_type": "stream",
     "text": [
      "(15, array([[1. , 0. , 0.5, 0.5, 0. , 0. , 0.5, 0. ],\n",
      "       [0.5, 0. , 0. , 0. , 1. , 0.5, 1.5, 0. ],\n",
      "       [0. , 0. , 0. , 0. , 0. , 0. , 0. , 0. ],\n",
      "       [0. , 0. , 0. , 0. , 0. , 0. , 0. , 0. ],\n",
      "       [0. , 0. , 0. , 0. , 0. , 0. , 0. , 0. ],\n",
      "       [0. , 0. , 1.5, 0.5, 0.5, 1. , 0. , 1. ],\n",
      "       [0. , 0. , 0. , 0. , 0. , 0. , 0. , 0. ],\n",
      "       [0. , 0. , 0. , 0. , 0. , 0. , 0. , 0. ],\n",
      "       [0. , 0. , 0. , 0. , 0. , 0. , 0. , 0. ],\n",
      "       [0. , 0. , 0. , 0. , 0. , 0. , 0. , 0. ],\n",
      "       [0. , 0. , 0. , 0. , 0. , 0. , 0. , 0. ],\n",
      "       [0. , 0. , 0. , 0. , 0. , 0. , 0. , 0. ],\n",
      "       [0. , 0. , 0. , 0. , 0. , 0. , 0. , 0. ],\n",
      "       [0. , 0. , 0. , 0. , 0. , 0. , 0. , 0. ],\n",
      "       [0. , 0. , 0. , 0. , 0. , 0. , 0. , 0. ],\n",
      "       [0. , 0. , 0. , 0. , 0. , 0. , 0. , 0. ],\n",
      "       [0.5, 1. , 0. , 0. , 0.5, 0.5, 0. , 1. ],\n",
      "       [0. , 0. , 0. , 0. , 0. , 0. , 0. , 0. ],\n",
      "       [0. , 0. , 0. , 0. , 0. , 0. , 0. , 0. ],\n",
      "       [0. , 0. , 0. , 0. , 0. , 0. , 0. , 0. ],\n",
      "       [0. , 1. , 0. , 1. , 0. , 0. , 0. , 0. ]]))\n"
     ]
    }
   ],
   "source": [
    "scoring_matrix = substitution_matrices.load(\"PAM250\")\n",
    "strings1 = [\"ACGTCAG\", \"TCAGTCG\"]\n",
    "strings2 = [\"ATGCGCT\", \"CTGCGCT\"]\n",
    "prof1 = create_profile(strings1, \"ACDEFGHIKLMNPQRSTVWY-\")\n",
    "prof2 = create_profile(strings2, \"ACDEFGHIKLMNPQRSTVWY-\")\n",
    "\n",
    "m = AR.calculate_match(prof1, prof2, scoring_matrix, 0, 0, 5)\n",
    "test = AR.local_alignment(prof1, prof2, 5)\n",
    "#print(prof1)\n",
    "#print(prof2)\n",
    "print(test)\n",
    "#print(scoring_matrix)\n"
   ]
  },
  {
   "cell_type": "code",
   "execution_count": 4,
   "metadata": {},
   "outputs": [],
   "source": [
    "amino_acids = \"ACDEFGHIKLMNPQRSTVWY-\"\n",
    "def calculate_match(x, y, scoring_matrix, i, j, sigma):\n",
    "    total = 0\n",
    "    x = x/np.sum(x, axis = 0)[0]\n",
    "    y = y/np.sum(y, axis = 0)[0]\n",
    "    for k in range(len(x)):\n",
    "        for l in range(len(x)):\n",
    "            if amino_acids[k] == \"-\" or amino_acids[j] == \"-\":\n",
    "                score = sigma\n",
    "            else:\n",
    "                score = scoring_matrix[(amino_acids[k], amino_acids[l])] \n",
    "            #Probably add 1 back to i and j. Quick fix for index error but we don't know why.\n",
    "            total += score * x[k][i-1] * y[l][j-1]\n",
    "    return total"
   ]
  },
  {
   "cell_type": "code",
   "execution_count": 5,
   "metadata": {},
   "outputs": [
    {
     "name": "stdout",
     "output_type": "stream",
     "text": [
      "-2.0\n"
     ]
    }
   ],
   "source": [
    "scoring_matrix = substitution_matrices.load(\"PAM250\")\n",
    "strings1 = [\"ACGTCAG\", \"TCAGTCG\"]\n",
    "strings2 = [\"ATGCGCT\", \"CTGCGCT\"]\n",
    "prof1 = create_profile(strings1, \"ACDEFGHIKLMNPQRSTVWY\")\n",
    "prof2 = create_profile(strings2, \"ACDEFGHIKLMNPQRSTVWY\")\n",
    "m = AR.calculate_match(prof1, prof2, scoring_matrix, 1, 1, 5)\n",
    "print(m)"
   ]
  }
 ],
 "metadata": {
  "kernelspec": {
   "display_name": "cs321",
   "language": "python",
   "name": "python3"
  },
  "language_info": {
   "codemirror_mode": {
    "name": "ipython",
    "version": 3
   },
   "file_extension": ".py",
   "mimetype": "text/x-python",
   "name": "python",
   "nbconvert_exporter": "python",
   "pygments_lexer": "ipython3",
   "version": "3.12.1"
  }
 },
 "nbformat": 4,
 "nbformat_minor": 2
}
